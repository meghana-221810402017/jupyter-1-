{
 "cells": [
  {
   "cell_type": "markdown",
   "metadata": {},
   "source": [
    "### TUPLES\n",
    "* t1 parenthesis() li square brackets[]\n",
    "* difference between list and tuples\n",
    "  - list are mutable - can be changed / modified\n",
    "    - used to access modify,add,delete data\n",
    "  - tuples are immutable - cannot be changed\n",
    "     - used to access the data only"
   ]
  },
  {
   "cell_type": "code",
   "execution_count": 18,
   "metadata": {},
   "outputs": [
    {
     "data": {
      "text/plain": [
       "tuple"
      ]
     },
     "execution_count": 18,
     "metadata": {},
     "output_type": "execute_result"
    }
   ],
   "source": [
    "t1 = (1,2,3,4,5,6)\n",
    "t1\n",
    "type(t1)"
   ]
  },
  {
   "cell_type": "code",
   "execution_count": 19,
   "metadata": {},
   "outputs": [
    {
     "data": {
      "text/plain": [
       "(2, 3, 4, 5)"
      ]
     },
     "execution_count": 19,
     "metadata": {},
     "output_type": "execute_result"
    }
   ],
   "source": [
    "t1[1:5]"
   ]
  },
  {
   "cell_type": "markdown",
   "metadata": {},
   "source": [
    "### DATA STRUCTURES\n",
    "   - Dictionaries\n",
    "   "
   ]
  },
  {
   "cell_type": "markdown",
   "metadata": {},
   "source": [
    "###  Dictionaries\n",
    "- it works on the concept of set unique data\n",
    "- keys,values is the unique identifier for a value\n",
    "- each key is seperated from its values with colon(:)\n",
    "- each key and value is seperated by comma(,)\n",
    "- dictionaries enclosed with curly braces({})"
   ]
  },
  {
   "cell_type": "code",
   "execution_count": 2,
   "metadata": {},
   "outputs": [
    {
     "name": "stdout",
     "output_type": "stream",
     "text": [
      "{'name': 'gitam', 'emailid': 'gitam@gmail.com', 'address': 'hyderabad'}\n"
     ]
    }
   ],
   "source": [
    "d1 = {\"name\":\"gitam\",\"emailid\":\"gitam@gmail.com\",\"address\":\"hyderabad\"}\n",
    "print(d1)"
   ]
  },
  {
   "cell_type": "code",
   "execution_count": 3,
   "metadata": {},
   "outputs": [
    {
     "data": {
      "text/plain": [
       "'gitam'"
      ]
     },
     "execution_count": 3,
     "metadata": {},
     "output_type": "execute_result"
    }
   ],
   "source": [
    "d1[\"name\"] # access the specific key"
   ]
  },
  {
   "cell_type": "code",
   "execution_count": 6,
   "metadata": {},
   "outputs": [],
   "source": [
    "d1['emailid'] = 'gitam-python@gmail.com' # update the data"
   ]
  },
  {
   "cell_type": "code",
   "execution_count": 7,
   "metadata": {},
   "outputs": [
    {
     "data": {
      "text/plain": [
       "'gitam-python@gmail.com'"
      ]
     },
     "execution_count": 7,
     "metadata": {},
     "output_type": "execute_result"
    }
   ],
   "source": [
    "d1['emailid']"
   ]
  },
  {
   "cell_type": "code",
   "execution_count": 10,
   "metadata": {},
   "outputs": [
    {
     "ename": "KeyError",
     "evalue": "'emailid'",
     "output_type": "error",
     "traceback": [
      "\u001b[1;31m---------------------------------------------------------------------------\u001b[0m",
      "\u001b[1;31mKeyError\u001b[0m                                  Traceback (most recent call last)",
      "\u001b[1;32m<ipython-input-10-c153f2b68589>\u001b[0m in \u001b[0;36m<module>\u001b[1;34m\u001b[0m\n\u001b[1;32m----> 1\u001b[1;33m \u001b[1;32mdel\u001b[0m \u001b[0md1\u001b[0m\u001b[1;33m[\u001b[0m\u001b[1;34m'emailid'\u001b[0m\u001b[1;33m]\u001b[0m\u001b[1;33m\u001b[0m\u001b[1;33m\u001b[0m\u001b[0m\n\u001b[0m",
      "\u001b[1;31mKeyError\u001b[0m: 'emailid'"
     ]
    }
   ],
   "source": [
    "del d1['emailid'] # delete the specific key value"
   ]
  },
  {
   "cell_type": "code",
   "execution_count": 11,
   "metadata": {},
   "outputs": [
    {
     "data": {
      "text/plain": [
       "{'name': 'gitam', 'address': 'hyderabad'}"
      ]
     },
     "execution_count": 11,
     "metadata": {},
     "output_type": "execute_result"
    }
   ],
   "source": [
    "d1 # del d1 will delete the entire dict object"
   ]
  },
  {
   "cell_type": "code",
   "execution_count": 13,
   "metadata": {},
   "outputs": [
    {
     "data": {
      "text/plain": [
       "dict_keys(['name', 'address'])"
      ]
     },
     "execution_count": 13,
     "metadata": {},
     "output_type": "execute_result"
    }
   ],
   "source": [
    "d1.keys() # returns the list of keys"
   ]
  },
  {
   "cell_type": "code",
   "execution_count": 15,
   "metadata": {},
   "outputs": [
    {
     "data": {
      "text/plain": [
       "dict_values(['gitam', 'hyderabad'])"
      ]
     },
     "execution_count": 15,
     "metadata": {},
     "output_type": "execute_result"
    }
   ],
   "source": [
    "d1.values() # returns the values"
   ]
  },
  {
   "cell_type": "code",
   "execution_count": 17,
   "metadata": {},
   "outputs": [
    {
     "data": {
      "text/plain": [
       "dict_items([('name', 'gitam'), ('address', 'hyderabad')])"
      ]
     },
     "execution_count": 17,
     "metadata": {},
     "output_type": "execute_result"
    }
   ],
   "source": [
    "d1.items() # the list of tuples of keys and values"
   ]
  },
  {
   "cell_type": "markdown",
   "metadata": {},
   "source": [
    "### CONTACT APPLICATION\n",
    "- add contact\n",
    "- search the contact\n",
    "- list all contacts\n",
    "    - name1: phone1\n",
    "    - name2: phone2\n",
    "- modify the contact\n",
    "- remove the contact\n",
    "- import the contact"
   ]
  },
  {
   "cell_type": "code",
   "execution_count": 25,
   "metadata": {},
   "outputs": [
    {
     "name": "stdout",
     "output_type": "stream",
     "text": [
      "contact is details are added\n",
      "contact is details are added\n",
      "contact details are already exists\n"
     ]
    }
   ],
   "source": [
    "# add contact\n",
    "contacts = {} # creating a dict object\n",
    "def addcontact(name,phone):\n",
    "    if name not in contacts:\n",
    "        contacts[name] = phone\n",
    "        print(\"contact is details are added\")\n",
    "    else:\n",
    "        print(\"contact details are already exists\")\n",
    "    return\n",
    "addcontact('meghana','9030401001')\n",
    "addcontact('aruna', '9711954738')\n",
    "addcontact('meghana','9030401001') "
   ]
  },
  {
   "cell_type": "code",
   "execution_count": 27,
   "metadata": {},
   "outputs": [
    {
     "data": {
      "text/plain": [
       "{'meghana': '9030401001', 'aruna': '9711954738'}"
      ]
     },
     "execution_count": 27,
     "metadata": {},
     "output_type": "execute_result"
    }
   ],
   "source": [
    "contacts"
   ]
  },
  {
   "cell_type": "code",
   "execution_count": 26,
   "metadata": {},
   "outputs": [
    {
     "name": "stdout",
     "output_type": "stream",
     "text": [
      "meghana  :  9030401001\n",
      "vaishnavi does not exists\n"
     ]
    }
   ],
   "source": [
    "# search for contact details\n",
    "def searchcontact(name):\n",
    "    if name in contacts:\n",
    "        print(name,\" : \" , contacts[name])\n",
    "    else:\n",
    "        print(\"%s does not exists\" % name)\n",
    "    return\n",
    "searchcontact('meghana')\n",
    "searchcontact('vaishnavi')"
   ]
  },
  {
   "cell_type": "code",
   "execution_count": 30,
   "metadata": {},
   "outputs": [
    {
     "name": "stdout",
     "output_type": "stream",
     "text": [
      "2 contacts added successfully\n"
     ]
    }
   ],
   "source": [
    "# import some contacts\n",
    "# merge the contact with existing one\n",
    "def importcontact(newcontacts):\n",
    "    contacts.update(newcontacts)\n",
    "    print(len(newcontacts.keys()),\"contacts added successfully\")\n",
    "    return\n",
    "newcontacts = {'vaishnavi':9988776655,'navatej':1122334455}\n",
    "importcontact(newcontacts)"
   ]
  },
  {
   "cell_type": "code",
   "execution_count": 29,
   "metadata": {},
   "outputs": [
    {
     "data": {
      "text/plain": [
       "{'meghana': '9030401001',\n",
       " 'aruna': '9711954738',\n",
       " 'vaishnavi': 9988776655,\n",
       " 'navatej': 1122334455}"
      ]
     },
     "execution_count": 29,
     "metadata": {},
     "output_type": "execute_result"
    }
   ],
   "source": [
    "contacts"
   ]
  },
  {
   "cell_type": "code",
   "execution_count": 34,
   "metadata": {},
   "outputs": [
    {
     "name": "stdout",
     "output_type": "stream",
     "text": [
      "navya not exists\n"
     ]
    }
   ],
   "source": [
    "# delete a contact\n",
    "def deletecontact(name):\n",
    "    if name in contacts:\n",
    "        del contacts[name]\n",
    "        print(name,\"deleted successfully\")\n",
    "    else:\n",
    "        print(name,\"not exists\")\n",
    "    return\n",
    "deletecontact('navya')\n"
   ]
  },
  {
   "cell_type": "code",
   "execution_count": 32,
   "metadata": {},
   "outputs": [
    {
     "data": {
      "text/plain": [
       "{'meghana': '9030401001', 'aruna': '9711954738', 'vaishnavi': 9988776655}"
      ]
     },
     "execution_count": 32,
     "metadata": {},
     "output_type": "execute_result"
    }
   ],
   "source": [
    "contacts"
   ]
  },
  {
   "cell_type": "code",
   "execution_count": 39,
   "metadata": {},
   "outputs": [
    {
     "name": "stdout",
     "output_type": "stream",
     "text": [
      "meghana updated successfully\n",
      "navya not exists\n"
     ]
    }
   ],
   "source": [
    "# update the contact details\n",
    "def deletecontact(name,phone):\n",
    "    if name in contacts:\n",
    "        contacts[name] = phone\n",
    "        print(name,\"updated successfully\")\n",
    "    else:\n",
    "        print(name,\"not exists\")\n",
    "    return   \n",
    "deletecontact('meghana',9030401001)\n",
    "deletecontact('navya',2345678910)"
   ]
  },
  {
   "cell_type": "code",
   "execution_count": null,
   "metadata": {},
   "outputs": [],
   "source": []
  },
  {
   "cell_type": "code",
   "execution_count": null,
   "metadata": {},
   "outputs": [],
   "source": []
  },
  {
   "cell_type": "code",
   "execution_count": null,
   "metadata": {},
   "outputs": [],
   "source": []
  }
 ],
 "metadata": {
  "kernelspec": {
   "display_name": "Python 3",
   "language": "python",
   "name": "python3"
  },
  "language_info": {
   "codemirror_mode": {
    "name": "ipython",
    "version": 3
   },
   "file_extension": ".py",
   "mimetype": "text/x-python",
   "name": "python",
   "nbconvert_exporter": "python",
   "pygments_lexer": "ipython3",
   "version": "3.7.3"
  }
 },
 "nbformat": 4,
 "nbformat_minor": 2
}
