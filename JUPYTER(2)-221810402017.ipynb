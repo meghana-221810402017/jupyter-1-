{
 "cells": [
  {
   "cell_type": "code",
   "execution_count": 4,
   "metadata": {},
   "outputs": [
    {
     "name": "stdout",
     "output_type": "stream",
     "text": [
      " enter number 1 2\n",
      " enter number 2 3\n",
      " enter number 3 4\n",
      "4 is the large number\n"
     ]
    }
   ],
   "source": [
    "# FIND THE LARGE NUMBER FROM THE GIVEN 3 NUMBERS\n",
    "a1 = int(input(\" enter number 1 \"))\n",
    "a2 = int(input(\" enter number 2 \"))\n",
    "a3 = int(input(\" enter number 3 \"))\n",
    "\n",
    "if a1>a2 and a1>a3:\n",
    "    print(a1, \" is the large number \")\n",
    "elif a2>a1 and a2>a3:\n",
    "    print(a2,\" is the large number \")\n",
    "else:\n",
    "    print(a3, \"is the large number\")\n"
   ]
  },
  {
   "cell_type": "code",
   "execution_count": 6,
   "metadata": {},
   "outputs": [
    {
     "name": "stdout",
     "output_type": "stream",
     "text": [
      "enter year2016\n",
      "leap year\n"
     ]
    }
   ],
   "source": [
    "# check if a year is leap year or not\n",
    "year = int(input(\"enter year\" ))\n",
    "if year%400 == 0 or (year % 100 != 0 and year % 4 == 0):\n",
    "    print(\"leap year\")\n",
    "else:\n",
    "    print(\"not a leap year\")"
   ]
  },
  {
   "cell_type": "markdown",
   "metadata": {},
   "source": [
    "### ITERATION\n",
    "- while\n",
    "- for\n",
    "\n",
    "# SYNTAX:\n",
    "       while boolean_condition : \n",
    "       statements \n",
    "       increment/decrement"
   ]
  },
  {
   "cell_type": "code",
   "execution_count": 7,
   "metadata": {},
   "outputs": [
    {
     "name": "stdout",
     "output_type": "stream",
     "text": [
      "GITAM\n",
      "GITAM\n",
      "GITAM\n",
      "GITAM\n",
      "GITAM\n"
     ]
    }
   ],
   "source": [
    "# need to print \"GITAM\" for 5 times\n",
    "print(\"GITAM\")\n",
    "print(\"GITAM\")\n",
    "print(\"GITAM\")\n",
    "print(\"GITAM\")\n",
    "print(\"GITAM\")\n",
    "\n"
   ]
  },
  {
   "cell_type": "code",
   "execution_count": 9,
   "metadata": {},
   "outputs": [
    {
     "name": "stdout",
     "output_type": "stream",
     "text": [
      "GITAM\n",
      "GITAM\n",
      "GITAM\n",
      "GITAM\n",
      "GITAM\n"
     ]
    }
   ],
   "source": [
    "x = 0\n",
    "while x < 5 :\n",
    "    print(\"GITAM\")\n",
    "    x = x + 1"
   ]
  },
  {
   "cell_type": "code",
   "execution_count": 36,
   "metadata": {},
   "outputs": [
    {
     "name": "stdout",
     "output_type": "stream",
     "text": [
      "enter a number10\n",
      "1 2 3 4 5 6 7 8 9 10 "
     ]
    }
   ],
   "source": [
    "# print N natural numbers using while loop\n",
    "# input - 10\n",
    "# output - 1 2 3 .......10\n",
    "\n",
    "n = int(input(\"enter a number\"))\n",
    "i=1\n",
    "while i <= n :\n",
    "    print(i,end = \" \")\n",
    "    \n",
    "    i = i + 1"
   ]
  },
  {
   "cell_type": "code",
   "execution_count": 39,
   "metadata": {},
   "outputs": [
    {
     "ename": "SyntaxError",
     "evalue": "invalid syntax (<ipython-input-39-78c9ff39f1e1>, line 6)",
     "output_type": "error",
     "traceback": [
      "\u001b[1;36m  File \u001b[1;32m\"<ipython-input-39-78c9ff39f1e1>\"\u001b[1;36m, line \u001b[1;32m6\u001b[0m\n\u001b[1;33m    i = 1\u001b[0m\n\u001b[1;37m    ^\u001b[0m\n\u001b[1;31mSyntaxError\u001b[0m\u001b[1;31m:\u001b[0m invalid syntax\n"
     ]
    }
   ],
   "source": [
    "# read a number -- n\n",
    "# add only even numbers between 1 to n\n",
    "# input = 10\n",
    "# output -- 30(2 + 4 + 6 + 8 + 10)\n",
    "n = int(input('enter a number')\n",
    "i = 1\n",
    "sum = 0\n",
    "while i <= n:\n",
    "    if i%2==0:\n",
    "         sum = sum + i\n",
    "    i = i + 1\n",
    "print(sum)"
   ]
  },
  {
   "cell_type": "code",
   "execution_count": 35,
   "metadata": {},
   "outputs": [
    {
     "name": "stdout",
     "output_type": "stream",
     "text": [
      "enter a number 123\n",
      "3  2  1  "
     ]
    }
   ],
   "source": [
    "# number as number -- 123\n",
    "# print the digits of given number : 3 2 1\n",
    "n = int(input('enter a number '))\n",
    "while n != 0:\n",
    "    r = n % 10\n",
    "    print(r,end = \"  \")\n",
    "    n = n // 10"
   ]
  },
  {
   "cell_type": "markdown",
   "metadata": {},
   "source": [
    "### FUNCTIONAL PROGRAMMING\n",
    "- simple\n",
    "- easy read\n",
    "- lengthy program divides into sub programs"
   ]
  },
  {
   "cell_type": "code",
   "execution_count": 45,
   "metadata": {},
   "outputs": [
    {
     "ename": "SyntaxError",
     "evalue": "invalid syntax (<ipython-input-45-fe39e49ef3c6>, line 1)",
     "output_type": "error",
     "traceback": [
      "\u001b[1;36m  File \u001b[1;32m\"<ipython-input-45-fe39e49ef3c6>\"\u001b[1;36m, line \u001b[1;32m1\u001b[0m\n\u001b[1;33m    def nameofthefunction(<parameters>):\u001b[0m\n\u001b[1;37m                          ^\u001b[0m\n\u001b[1;31mSyntaxError\u001b[0m\u001b[1;31m:\u001b[0m invalid syntax\n"
     ]
    }
   ],
   "source": [
    "def nameofthefunction(<parameters>):\n",
    "    statement\n",
    "    return"
   ]
  },
  {
   "cell_type": "code",
   "execution_count": 42,
   "metadata": {},
   "outputs": [
    {
     "name": "stdout",
     "output_type": "stream",
     "text": [
      "6\n"
     ]
    }
   ],
   "source": [
    "# read a number -- 1234\n",
    "# output -- 6(2+4)\n",
    "def addEvenDigits(n):\n",
    "    sum = 0\n",
    "    while n!= 0:\n",
    "        r = n % 10\n",
    "        if r % 2 == 0:\n",
    "            sum = sum + r\n",
    "        n = n // 10\n",
    "    print(sum)   \n",
    "    return\n",
    "addEvenDigits(1234)\n"
   ]
  },
  {
   "cell_type": "code",
   "execution_count": 40,
   "metadata": {},
   "outputs": [
    {
     "ename": "NameError",
     "evalue": "name 'true' is not defined",
     "output_type": "error",
     "traceback": [
      "\u001b[1;31m---------------------------------------------------------------------------\u001b[0m",
      "\u001b[1;31mNameError\u001b[0m                                 Traceback (most recent call last)",
      "\u001b[1;32m<ipython-input-40-b3747cf2da83>\u001b[0m in \u001b[0;36m<module>\u001b[1;34m\u001b[0m\n\u001b[1;32m----> 1\u001b[1;33m \u001b[0mx\u001b[0m \u001b[1;33m=\u001b[0m \u001b[0mtrue\u001b[0m\u001b[1;33m\u001b[0m\u001b[1;33m\u001b[0m\u001b[0m\n\u001b[0m\u001b[0;32m      2\u001b[0m \u001b[1;32mif\u001b[0m \u001b[0mx\u001b[0m \u001b[1;32mand\u001b[0m \u001b[0mfalse\u001b[0m\u001b[1;33m:\u001b[0m\u001b[1;33m\u001b[0m\u001b[1;33m\u001b[0m\u001b[0m\n\u001b[0;32m      3\u001b[0m     \u001b[0mprint\u001b[0m\u001b[1;33m(\u001b[0m\u001b[1;34m\"100\"\u001b[0m\u001b[1;33m)\u001b[0m\u001b[1;33m\u001b[0m\u001b[1;33m\u001b[0m\u001b[0m\n\u001b[0;32m      4\u001b[0m \u001b[1;32melse\u001b[0m\u001b[1;33m:\u001b[0m\u001b[1;33m\u001b[0m\u001b[1;33m\u001b[0m\u001b[0m\n\u001b[0;32m      5\u001b[0m     \u001b[0mprint\u001b[0m\u001b[1;33m(\u001b[0m\u001b[1;34m\"200\"\u001b[0m\u001b[1;33m)\u001b[0m\u001b[1;33m\u001b[0m\u001b[1;33m\u001b[0m\u001b[0m\n",
      "\u001b[1;31mNameError\u001b[0m: name 'true' is not defined"
     ]
    }
   ],
   "source": [
    "x = true\n",
    "if x and false:\n",
    "    print(\"100\")\n",
    "else:\n",
    "    print(\"200\")"
   ]
  },
  {
   "cell_type": "code",
   "execution_count": 47,
   "metadata": {},
   "outputs": [
    {
     "data": {
      "text/plain": [
       "9"
      ]
     },
     "execution_count": 47,
     "metadata": {},
     "output_type": "execute_result"
    }
   ],
   "source": [
    "# read a number -- 19528\n",
    "# print the large digit print the number\n",
    "def printlarge(n):\n",
    "    large = 0\n",
    "    while n != 0:\n",
    "        r = n % 10\n",
    "        if large < r:\n",
    "            large = r\n",
    "        n = n // 10\n",
    "    return large\n",
    "printlarge(19528)"
   ]
  },
  {
   "cell_type": "code",
   "execution_count": 48,
   "metadata": {},
   "outputs": [
    {
     "data": {
      "text/plain": [
       "321"
      ]
     },
     "execution_count": 48,
     "metadata": {},
     "output_type": "execute_result"
    }
   ],
   "source": [
    "# read a number input\n",
    "# output reverse of the given number\n",
    "# 123 -- 321\n",
    "def reversenumber(n):\n",
    "    rev = 0\n",
    "    while n != 0:\n",
    "        r = n % 10\n",
    "        rev = rev * 10 + r\n",
    "        n = n // 10\n",
    "    return rev \n",
    "reversenumber(123)"
   ]
  },
  {
   "cell_type": "code",
   "execution_count": 55,
   "metadata": {},
   "outputs": [
    {
     "name": "stdout",
     "output_type": "stream",
     "text": [
      "no\n",
      "yes\n"
     ]
    }
   ],
   "source": [
    "# given number is palindrome or not\n",
    "# input\n",
    "# 123 --321 --no\n",
    "# 121 --121 --yes\n",
    "def ispalindrome(n):\n",
    "    rev = 0\n",
    "    buffer = n   \n",
    "    while n != 0:\n",
    "        r = n % 10\n",
    "        rev = rev * 10 + r\n",
    "        n = n // 10\n",
    "    if buffer == rev:\n",
    "        return \"yes\"\n",
    "    else:\n",
    "        return \"no\"\n",
    "print(ispalindrome(123))    \n",
    "print(ispalindrome(121))"
   ]
  },
  {
   "cell_type": "code",
   "execution_count": 57,
   "metadata": {},
   "outputs": [
    {
     "name": "stdout",
     "output_type": "stream",
     "text": [
      "1 2 3 4 5 6 7 8 9 10 "
     ]
    }
   ],
   "source": [
    "# function to print N natural numbers with for loop\n",
    "def printNnaturalnumbers(n):\n",
    "    for x in range(1,n+1):\n",
    "        print(x,end=\" \")\n",
    "    return\n",
    "printNnaturalnumbers(10)"
   ]
  },
  {
   "cell_type": "code",
   "execution_count": 58,
   "metadata": {},
   "outputs": [
    {
     "name": "stdout",
     "output_type": "stream",
     "text": [
      "11 12 13 14 15 16 17 18 19 20 21 22 23 24 25 "
     ]
    }
   ],
   "source": [
    "# function to print the numbers between two limits\n",
    "# input : 11,25\n",
    "# output : 11 12 13 ......25\n",
    "def printseries(lb,ub):\n",
    "    for x in range(lb,ub+1):\n",
    "        print(x,end=\" \")\n",
    "    return\n",
    "printseries(11,25)"
   ]
  },
  {
   "cell_type": "code",
   "execution_count": 64,
   "metadata": {},
   "outputs": [
    {
     "name": "stdout",
     "output_type": "stream",
     "text": [
      "100 104 108 112 116 120 124 128 132 136 140 144 148 "
     ]
    }
   ],
   "source": [
    "# function to print alternate numbers\n",
    "# [500,520] -- 500 502 504 506 508 .......520\n",
    "# [100,150] -- 100 104 108 112 116\n",
    "def alternatenumbers(lb,ub):\n",
    "    for x in range(lb,ub+1,4):\n",
    "        print(x,end=\" \")\n",
    "    return\n",
    "alternatenumbers(100,150)\n",
    "    "
   ]
  },
  {
   "cell_type": "code",
   "execution_count": null,
   "metadata": {},
   "outputs": [],
   "source": []
  },
  {
   "cell_type": "code",
   "execution_count": 76,
   "metadata": {},
   "outputs": [
    {
     "name": "stdout",
     "output_type": "stream",
     "text": [
      "10 9 8 7 6 5 4 3 2 1 "
     ]
    }
   ],
   "source": [
    "# function to print the series in reverse\n",
    "# input -- 1,10\n",
    "# output : 1 9 8 7 6 ....1\n",
    "def reverseRange(start,end):\n",
    "    for x in range(end,start-1,-1):\n",
    "        print(x,end =\" \")\n",
    "    return\n",
    "reverseRange(1,10)    "
   ]
  },
  {
   "cell_type": "code",
   "execution_count": null,
   "metadata": {},
   "outputs": [],
   "source": [
    "# problem name\n",
    "# algorithm\n",
    "# sample input and output\n",
    "# flowchart\n",
    "# python code"
   ]
  },
  {
   "cell_type": "code",
   "execution_count": null,
   "metadata": {},
   "outputs": [],
   "source": []
  },
  {
   "cell_type": "code",
   "execution_count": null,
   "metadata": {},
   "outputs": [],
   "source": []
  },
  {
   "cell_type": "code",
   "execution_count": null,
   "metadata": {},
   "outputs": [],
   "source": []
  },
  {
   "cell_type": "code",
   "execution_count": null,
   "metadata": {},
   "outputs": [],
   "source": []
  },
  {
   "cell_type": "code",
   "execution_count": null,
   "metadata": {},
   "outputs": [],
   "source": []
  }
 ],
 "metadata": {
  "kernelspec": {
   "display_name": "Python 3",
   "language": "python",
   "name": "python3"
  },
  "language_info": {
   "codemirror_mode": {
    "name": "ipython",
    "version": 3
   },
   "file_extension": ".py",
   "mimetype": "text/x-python",
   "name": "python",
   "nbconvert_exporter": "python",
   "pygments_lexer": "ipython3",
   "version": "3.7.3"
  }
 },
 "nbformat": 4,
 "nbformat_minor": 2
}
